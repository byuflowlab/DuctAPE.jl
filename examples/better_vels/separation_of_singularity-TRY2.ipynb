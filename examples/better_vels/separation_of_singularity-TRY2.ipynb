{
 "cells": [
  {
   "cell_type": "markdown",
   "id": "c075f60e",
   "metadata": {},
   "source": [
    "# TODO\n",
    "\n",
    "- put together script for using quadgk for nominal case\n",
    "- put together script for using quadgk for separation of singularity stuff\n",
    "- put together a small fortran code, just copy/paste the relevant bits from DFDC, to do unit checks on the linear distribution panels for both far and self-induced cases"
   ]
  },
  {
   "cell_type": "markdown",
   "id": "bfcb63f7",
   "metadata": {},
   "source": [
    "# subtraction of singularity"
   ]
  },
  {
   "cell_type": "markdown",
   "id": "c93c3fe7",
   "metadata": {
    "jp-MarkdownHeadingCollapsed": true
   },
   "source": [
    "## unit axial induced velocity due to vortex ring"
   ]
  },
  {
   "cell_type": "markdown",
   "id": "2464fed0",
   "metadata": {},
   "source": [
    "Starting with the full expression, with some things expanded out so we can see what we're dealing with"
   ]
  },
  {
   "cell_type": "markdown",
   "id": "046fad46-af3f-4673-8bf9-df8d88dbc6a3",
   "metadata": {},
   "source": [
    "$$ \n",
    "\\begin{equation}\n",
    "v_{x}^\\gamma =\\int_{(z_{1},r_{1})}^{(z_{2},r_{2})} \n",
    "%\n",
    "\\left[ \n",
    "%\n",
    "\\frac{\\int_0^{1}\\frac{1}{\n",
    "\\left[1-\\left(\\frac{4\\frac{r}{r_o}}{\\left(\\frac{z-z_o}{r_o}\\right)^2 + \\left(\\frac{r}{r_o}+1\\right)^2}\\right)\\sin^2\\theta\\right]^{1/2}\n",
    "}d\\theta}\n",
    "{2\\pi r_o \\left[\\left(\\frac{x-x_o}{r_o}\\right)^2 + \\left(\\frac{r}{r_o}+1\\right)^2 \\right]^{1/2}}  - \n",
    "%\n",
    "\\frac{\\int_0^{\\pi/2}\\left[1-\\left(\\frac{4\\frac{r}{r_o}}{\\left(\\frac{z-z_o}{r_o}\\right)^2 + \\left(\\frac{r}{r_o}+1\\right)^2}\\right)\\sin^2\\theta\\right]^{1/2}d\\theta}{2\\pi r_o \\left[\\left(\\frac{z-z_o}{r_o}\\right)^2 + \\left(\\frac{r}{r_o}+1\\right)^2 \\right]^{1/2}}  \n",
    "%\n",
    "\\left(1+\\frac{2 \\left(\\frac{r}{r_o}-1\\right)}{\\left(\\frac{z-z_o}{r_o}\\right)^2 + \\left(\\frac{r}{r_o}-1\\right)^2}\\right) \\right] ds \n",
    "\\end{equation}\n",
    "$$"
   ]
  },
  {
   "cell_type": "markdown",
   "id": "5b3f23ba",
   "metadata": {},
   "source": [
    "Let's plug in $x=x_o$ and $r = r_o$ and simplify to show where the singularities in the integral lie"
   ]
  },
  {
   "cell_type": "markdown",
   "id": "8229e3de",
   "metadata": {},
   "source": [
    "$$ \n",
    "\\frac{\\int_0^{\\pi/2}\\frac{1}{\\left[1-\\left(\\frac{4}{\\left(0\\right)^2 + \\left(1+1\\right)^2}\\right)\\sin^2\\theta\\right]^{1/2}}d\\theta}\n",
    "{2\\pi r \\left[\\left(0\\right)^2 + \\left(1+1\\right)^2 \\right]^{1/2}}  - \n",
    "%\n",
    "\\frac{\\int_0^{\\pi/2}\\left[1-\\left(\\frac{4}{\\left(0\\right)^2 + \\left(1+1\\right)^2}\\right)\\sin^2\\theta\\right]^{1/2}d\\theta}{2\\pi r \\left[\\left(0\\right)^2 + \\left(1+1\\right)^2 \\right]^{1/2}}  \n",
    "%\n",
    "\\left(1+\\frac{2 \\left(1 - 1\\right)}{\\left(0\\right)^2 + \\left(1-1\\right)^2}\\right) $$"
   ]
  },
  {
   "cell_type": "markdown",
   "id": "d3fd6dbf",
   "metadata": {},
   "source": [
    "the elliptic integral of the second kind goes to 1 in this case, so we can simplify to"
   ]
  },
  {
   "cell_type": "markdown",
   "id": "6f61ccd3",
   "metadata": {},
   "source": [
    "$$ \n",
    "\\frac{\\int_0^{\\pi/2}\\frac{1}{\\left[1-\\sin^2\\theta\\right]^{1/2}}d\\theta}\n",
    "{4\\pi r}  - \n",
    "%\n",
    "\\frac{1}{4\\pi r}  \n",
    "%\n",
    "\\left(1+\\frac{0}{0}\\right)$$"
   ]
  },
  {
   "cell_type": "markdown",
   "id": "c167c7e9",
   "metadata": {},
   "source": [
    "looking at the second term, the 1 is not a singular term, so we'll ignore it for our purposes here, which leaves the following as the singular part of the second term"
   ]
  },
  {
   "cell_type": "markdown",
   "id": "bc966218",
   "metadata": {},
   "source": [
    "$$\n",
    "\\frac{-1}{2\\pi r_o \\left[\\left(\\frac{x-x_o}{r_o}\\right)^2 + \\left(\\frac{r}{r_o}+1\\right)^2\\right]^{1/2}}\n",
    "%\n",
    "\\left(\\frac{2 \\left(\\frac{r-r_o}{r_o}\\right)}{\\left(\\frac{x-x_o}{r_o}\\right)^2 + \\left(\\frac{r-r_o}{r_o}\\right)^2}\\right) $$"
   ]
  },
  {
   "cell_type": "markdown",
   "id": "95dfdb15",
   "metadata": {},
   "source": [
    "at the singular point, the outer denominator here isn't singular, so we can simplify that (it goes to 2 when $x=x_o$ and $r=r_o$)"
   ]
  },
  {
   "cell_type": "markdown",
   "id": "2ebc6cd5",
   "metadata": {},
   "source": [
    "$$\n",
    "\\frac{-1}{4\\pi r_o }\n",
    "%\n",
    "\\left(\\frac{2 \\left(\\frac{r-r_o}{r_o}\\right)}{\\left(\\frac{x-x_o}{r_o}\\right)^2 + \\left(\\frac{r-r_o}{r_o}\\right)^2}\\right) $$"
   ]
  },
  {
   "cell_type": "markdown",
   "id": "0ea588df",
   "metadata": {},
   "source": [
    "then simplifying further by noting the 2 and $r_o^2$ cancels"
   ]
  },
  {
   "cell_type": "markdown",
   "id": "440759d4",
   "metadata": {},
   "source": [
    "$$\n",
    "\\frac{-1}{4\\pi r_o^2 }\n",
    "%\n",
    "\\left(\\frac{2 \\left(r-r_o\\right)}{\\left(\\frac{x-x_o}{r_o}\\right)^2 + \\left(\\frac{r-r_o}{r_o}\\right)^2}\\right) $$"
   ]
  },
  {
   "cell_type": "markdown",
   "id": "3a041d4a",
   "metadata": {},
   "source": [
    "$$\n",
    "\\frac{r_o-r}{2\\pi\\left[\\left(x-x_o\\right)^2 + \\left(r-r_o\\right)^2\\right] }$$"
   ]
  },
  {
   "cell_type": "markdown",
   "id": "9370baab",
   "metadata": {},
   "source": [
    "just as a note, this is precisely what DFDC has"
   ]
  },
  {
   "cell_type": "markdown",
   "id": "5b2e8fba",
   "metadata": {},
   "source": [
    "Now for the first term, we need to adress the non-convergence of the elliptic integral of the first kind.\n",
    "\n",
    "the asymptotic behaviour of the complete elliptic integral of the first kind, K(m), as m approaches 1; where $ m = \\frac{4\\frac{r}{r_o}}{\\left(\\frac{x-x_o}{r_o}\\right)^2 + \\left(\\frac{r}{r_o}+1\\right)^2} $\n",
    " is well known to be"
   ]
  },
  {
   "cell_type": "markdown",
   "id": "493eb845",
   "metadata": {},
   "source": [
    "$$\n",
    "\\begin{equation}\n",
    "K \\approx \\ln \\frac{4}{\\sqrt{1-\\frac{4\\frac{r}{r_o}}{\\left(\\frac{x-x_o}{r_o}\\right)^2 + \\left(\\frac{r}{r_o}+1\\right)^2}}}\n",
    "\\end{equation}\n",
    "$$"
   ]
  },
  {
   "cell_type": "markdown",
   "id": "ac70e173",
   "metadata": {},
   "source": [
    "so the whole singular term here can be approximated as"
   ]
  },
  {
   "cell_type": "markdown",
   "id": "174b0055",
   "metadata": {},
   "source": [
    "$$\n",
    "\\frac{1}{4\\pi r_o} \\ln \\frac{4}{\\sqrt{1-\\frac{4\\frac{r}{r_o}}{\\left(\\frac{x-x_o}{r_o}\\right)^2 + \\left(\\frac{r}{r_o}+1\\right)^2}}}\n",
    "$$"
   ]
  },
  {
   "cell_type": "markdown",
   "id": "8bcbc198",
   "metadata": {},
   "source": [
    "using logrithm rules to pull out the square root and the 4 for now"
   ]
  },
  {
   "cell_type": "markdown",
   "id": "38a968c8",
   "metadata": {},
   "source": [
    "$$\n",
    "\\frac{1}{4\\pi r_o} \\left[\\ln(4) - 0.5 \\ln\\left(1-\\frac{4\\frac{r}{r_o}}{\\left(\\frac{x-x_o}{r_o}\\right)^2 + \\left(\\frac{r}{r_o}+1\\right)^2}\\right)\\right]\n",
    "$$"
   ]
  },
  {
   "cell_type": "markdown",
   "id": "8469162c",
   "metadata": {},
   "source": [
    "simplifying inside the second logrithm term"
   ]
  },
  {
   "cell_type": "markdown",
   "id": "da2085b3",
   "metadata": {},
   "source": [
    "$$\n",
    "\\begin{aligned}\n",
    "& 1-\\frac{4\\frac{r}{r_o}}{\\left(\\frac{x-x_o}{r_o}\\right)^2 + \\left(\\frac{r}{r_o}+1\\right)^2} \\\\\n",
    "%\n",
    "=& \\frac{{\\left(\\frac{x-x_o}{r_o}\\right)^2 + \\left(\\frac{r}{r_o}+1\\right)^2}-4\\frac{r}{r_o}}{\\left(\\frac{x-x_o}{r_o}\\right)^2 + \\left(\\frac{r}{r_o}+1\\right)^2}\\\\\n",
    "%\n",
    "=& \\frac{\\left(\\frac{x-x_o}{r_o}\\right)^2 + \\left(\\frac{r}{r_o}\\right)^2+2\\frac{r}{r_o}+1-4\\frac{r}{r_o}}{\\left(\\frac{x-x_o}{r_o}\\right)^2 + \\left(\\frac{r}{r_o}+1\\right)^2}\\\\\n",
    "%\n",
    "=& \\frac{\\left(\\frac{x-x_o}{r_o}\\right)^2 + \\left(\\frac{r}{r_o}\\right)^2-2\\frac{r}{r_o}+1}{\\left(\\frac{x-x_o}{r_o}\\right)^2 + \\left(\\frac{r}{r_o}+1\\right)^2}\\\\\n",
    "%\n",
    "=& \\frac{\\left(\\frac{x-x_o}{r_o}\\right)^2 + \\left(\\frac{r}{r_o}-1\\right)^2}{\\left(\\frac{x-x_o}{r_o}\\right)^2 + \\left(\\frac{r}{r_o}+1\\right)^2}\\\\\n",
    "%\n",
    "=& \\frac{\\left(x-x_o\\right)^2 + \\left(r-r_o\\right)^2}{\\left(x-x_o\\right)^2 + \\left(r+r_o\\right)^2}\n",
    "\\end{aligned}\n",
    "$$"
   ]
  },
  {
   "cell_type": "markdown",
   "id": "abc5bec3",
   "metadata": {},
   "source": [
    "plugging this into the full expression"
   ]
  },
  {
   "cell_type": "markdown",
   "id": "2526e8cb",
   "metadata": {},
   "source": [
    "$$\n",
    "\\frac{1}{4\\pi r_o} \\left[\\ln(4) - 0.5 \\ln\\left(\\frac{\\left(x-x_o\\right)^2 + \\left(r-r_o\\right)^2}{\\left(x-x_o\\right)^2 + \\left(r+r_o\\right)^2}\\right)\\right]\n",
    "$$"
   ]
  },
  {
   "cell_type": "markdown",
   "id": "3976a0c8",
   "metadata": {},
   "source": [
    "bringing the 4 back in (noting the negative out front, so it goes into the denominator now), and resolving the non-singular denominator at $x=x_o$ and $r=r_o$"
   ]
  },
  {
   "cell_type": "markdown",
   "id": "4541edf8",
   "metadata": {},
   "source": [
    "$$\n",
    "\\frac{1}{4\\pi r_o} \\left[ - 0.5 \\ln\\left(\\frac{\\left[\\left(x-x_o\\right)^2 + \\left(r-r_o\\right)^2\\right]}{16\\left(4r_o^2\\right)}\\right)\\right]\n",
    "$$"
   ]
  },
  {
   "cell_type": "markdown",
   "id": "fa075da9",
   "metadata": {},
   "source": [
    "$$\n",
    "\\frac{1}{4\\pi r_o} \\left[ - 0.5 \\ln\\left(\\frac{\\left(x-x_o\\right)^2 + \\left(r-r_o\\right)^2}{64r_o^2}\\right)\\right]\n",
    "$$"
   ]
  },
  {
   "cell_type": "markdown",
   "id": "eedf4c37",
   "metadata": {},
   "source": [
    "Note: this is what DFDC has."
   ]
  },
  {
   "cell_type": "markdown",
   "id": "a9f7030d",
   "metadata": {},
   "source": [
    "now we have both of the singular pieces that we need to subtract. Together they are:"
   ]
  },
  {
   "cell_type": "markdown",
   "id": "38f8bd18",
   "metadata": {},
   "source": [
    "$$\n",
    "\\frac{r_o-r}{2\\pi\\left[\\left(x-x_o\\right)^2 + \\left(r-r_o\\right)^2\\right] }\n",
    "%\n",
    "-\\frac{1}{4\\pi r_o} \\left[ 0.5 \\ln\\left(\\frac{\\left(x-x_o\\right)^2 + \\left(r-r_o\\right)^2}{64r_o^2}\\right)\\right]\n",
    "$$"
   ]
  },
  {
   "cell_type": "markdown",
   "id": "8d918624",
   "metadata": {
    "jp-MarkdownHeadingCollapsed": true
   },
   "source": [
    "## unit radial induced velocity from vortex ring"
   ]
  },
  {
   "cell_type": "markdown",
   "id": "692e48ab",
   "metadata": {},
   "source": [
    "The expression here is similar, but sufficiently different to that of the axial induced velocity that we will again start with the nearly fully expanded version."
   ]
  },
  {
   "cell_type": "markdown",
   "id": "d69e422a",
   "metadata": {},
   "source": [
    "$$ \n",
    "\\begin{equation}\n",
    "v_{r_{ij}}^\\gamma =\\int_{(x_{i_1},r_{i_1})}^{(x_{i_2},r_{i_2})} \n",
    "\\left[ \n",
    "%\n",
    "\\left(\\frac{x-x_o}{r_o}\\right) \\frac{\\int_0^{\\pi/2}\\frac{1}{\\left[1-\\left(\\frac{4\\frac{r}{r_o}}{\\left(\\frac{x-x_o}{r_o}\\right)^2 + \\left(\\frac{r}{r_o}+1\\right)^2}\\right)\\sin^2\\theta\\right]^{1/2}}d\\theta}\n",
    "{2\\pi r_o \\left(\\frac{r}{r_o}\\right) \\left[\\left(\\frac{x-x_o}{r_o}\\right)^2 + \\left(\\frac{r}{r_o}+1\\right)^2 \\right]^{1/2}}  - \n",
    "%\n",
    "\\left(\\frac{x-x_o}{r_o}\\right) \\frac{\\int_0^{\\pi/2}\\left[1-\\left(\\frac{4\\frac{r}{r_o}}{\\left(\\frac{x-x_o}{r_o}\\right)^2 + \\left(\\frac{r}{r_o}+1\\right)^2}\\right)\\sin^2\\theta\\right]^{1/2}d\\theta}{2\\pi r_o \\left(\\frac{r}{r_o}\\right) \\left[\\left(\\frac{x-x_o}{r_o}\\right)^2 + \\left(\\frac{r}{r_o}+1\\right)^2 \\right]^{1/2}}  \n",
    "%\n",
    "\\left(1+\\frac{2 \\left(\\frac{r}{r_o}\\right)}{\\left(\\frac{x-x_o}{r_o}\\right)^2 + \\left(\\frac{r-r_o}{r_o}\\right)^2}\\right) \\right] ds \n",
    "\\end{equation}$$"
   ]
  },
  {
   "cell_type": "markdown",
   "id": "70be8f00",
   "metadata": {},
   "source": [
    "As before, we'll start with the second term.  Again, the elliptic integral of the second kind will go to 1 here, the $r/r_o$ will cancel, along with the $r_o^2$, in addition the non-singular part of the denominator again goes to 2 (which also cancels), so we will be left with"
   ]
  },
  {
   "cell_type": "markdown",
   "id": "3c4acdc1",
   "metadata": {},
   "source": [
    "$$-\\frac{x-x_o}{2\\pi\\left[\\left(x-x_o\\right)^2 + \\left(r-r_o\\right)^2\\right]} $$"
   ]
  },
  {
   "cell_type": "markdown",
   "id": "8042a6d1",
   "metadata": {},
   "source": [
    "The first term, which was singular before, simplifies down similarly to an expression analogous to $x \\ln(x)$ which is not, in fact, singular, and so the above expression is the entire singular part for the radial velocity induced by a vortex ring."
   ]
  },
  {
   "cell_type": "markdown",
   "id": "5142ad48",
   "metadata": {
    "jp-MarkdownHeadingCollapsed": true
   },
   "source": [
    "## unit axial induced velocity from source ring"
   ]
  },
  {
   "cell_type": "markdown",
   "id": "3e581817",
   "metadata": {},
   "source": [
    "Since we've already determined the singular parts we'll encounter here, we won't expand everything out completely. Especially since this induced velocity expression does not include an elliptic integral of the first kind, things will proceed smoothly."
   ]
  },
  {
   "cell_type": "markdown",
   "id": "fb00ad66",
   "metadata": {},
   "source": [
    "$$ \n",
    "\\begin{equation}\n",
    "v_{x_{ij}}^\\sigma =\\int_{(x_{i_1},r_{i_1})}^{(x_{i_2},r_{i_2})} \n",
    "%\n",
    "\\left[ \n",
    "\\frac{2\\left(\\frac{x-x_o}{r_o}\\right)E}{2\\pi r_o \\left[\\left(\\frac{x-x_o}{r_o}\\right)^2 + \\left(\\frac{r}{r_o}+1\\right)^2 \\right]^{1/2}\\left(\\frac{x-x_o}{r_o}\\right)^2 + \\left(\\frac{r-r_o}{r_o}\\right)^2}  \n",
    " \\right] ds \n",
    " \\end{equation}\n",
    " $$"
   ]
  },
  {
   "cell_type": "markdown",
   "id": "d6540061",
   "metadata": {},
   "source": [
    "Following similar procedures as before, we let $x=x_o$ and $r=r_o$ for non-singular pieces and remember that E goes to 1 in that case, and the $r_o^2$ cancels leaving us with the singular term:"
   ]
  },
  {
   "cell_type": "markdown",
   "id": "89930f2f",
   "metadata": {},
   "source": [
    "$$\\frac{x-x_o}{2\\pi\\left[\\left(x-x_o\\right)^2 + \\left(r-r_o\\right)^2\\right]} $$"
   ]
  },
  {
   "cell_type": "markdown",
   "id": "b29bf265",
   "metadata": {},
   "source": [
    "which again matches DFDC other than a swapped numerator and negative and the missing 1/2 we see everywhere."
   ]
  },
  {
   "cell_type": "markdown",
   "id": "58bf889d",
   "metadata": {
    "jp-MarkdownHeadingCollapsed": true
   },
   "source": [
    "## unit radial induced velocity from source ring"
   ]
  },
  {
   "cell_type": "markdown",
   "id": "8823b541",
   "metadata": {},
   "source": [
    "Once again, let's start from the full, mostly expanded expression for the velocity so we can more clearly see what's goiing on."
   ]
  },
  {
   "cell_type": "markdown",
   "id": "70b6f563",
   "metadata": {},
   "source": [
    "$$\n",
    "\\begin{equation}\n",
    "v_{r_{ij}}^\\sigma =\\int_{(x_{i_1},r_{i_1})}^{(x_{i_2},r_{i_2})} \n",
    "%\n",
    "\\left[ \n",
    "%\n",
    "\\frac{\\int_0^{\\pi/2}\\frac{1}{\\left[1-\\left(\\frac{4\\frac{r}{r_o}}{\\left(\\frac{x-x_o}{r_o}\\right)^2 + \\left(\\frac{r}{r_o}+1\\right)^2}\\right)\\sin^2\\theta\\right]^{1/2}}d\\theta}\n",
    "{2\\pi r_o \\left(\\frac{r}{r_o}\\right) \\left[\\left(\\frac{x-x_o}{r_o}\\right)^2 + \\left(\\frac{r}{r_o}+1\\right)^2 \\right]^{1/2}}  - \n",
    "%\n",
    "\\frac{\\int_0^{\\pi/2}\\left[1-\\left(\\frac{4\\frac{r}{r_o}}{\\left(\\frac{x-x_o}{r_o}\\right)^2 + \\left(\\frac{r}{r_o}+1\\right)^2}\\right)\\sin^2\\theta\\right]^{1/2}d\\theta}{2\\pi r_o  \\left(\\frac{r}{r_o}\\right) \\left[\\left(\\frac{x-x_o}{r_o}\\right)^2 + \\left(\\frac{r}{r_o}+1\\right)^2 \\right]^{1/2}}  \n",
    "%\n",
    "\\left(1-\\frac{2 \\left[\\left(\\frac{r}{r_o}\\right)^2-\\left(\\frac{r}{r_o}\\right)\\right]}{\\left(\\frac{x-x_o}{r_o}\\right)^2 + \\left(\\frac{r-r_o}{r_o}\\right)^2}\\right) \\right] ds\n",
    "\\end{equation}\n",
    "$$"
   ]
  },
  {
   "cell_type": "markdown",
   "id": "e3d46518",
   "metadata": {},
   "source": [
    "proceeding as before, we let $x=x_o$ and $r=r_o$ to help identify the sigularities"
   ]
  },
  {
   "cell_type": "markdown",
   "id": "79345647",
   "metadata": {},
   "source": [
    "$$\n",
    "\\frac{\\int_0^{\\pi/2}\\frac{1}{\\left[1-\\sin^2\\theta\\right]^{1/2}}d\\theta}\n",
    "{4\\pi r_o }  - \n",
    "%\n",
    "\\frac{1}{4\\pi r_o }  \n",
    "%\n",
    "\\left(1-\\frac{0}{ 0}\\right)\n",
    "$$"
   ]
  },
  {
   "cell_type": "markdown",
   "id": "35ab9038",
   "metadata": {},
   "source": [
    "For the second term, the singular part is"
   ]
  },
  {
   "cell_type": "markdown",
   "id": "27d3cd8a",
   "metadata": {},
   "source": [
    "$$\n",
    "\\frac{1}{2\\pi r_o \\left(\\frac{r}{r_o}\\right)}\n",
    "%\n",
    "\\left(\\frac{\\left(\\frac{r}{r_o}\\right)^2-\\left(\\frac{r}{r_o}\\right)}{\\left(\\frac{x-x_o}{r_o}\\right)^2 + \\left(\\frac{r-r_o}{r_o}\\right)^2}\\right) $$"
   ]
  },
  {
   "cell_type": "markdown",
   "id": "de4b4e9a",
   "metadata": {},
   "source": [
    "canceling out an $\\frac{r}{r_o}$ and an $r_o^2$"
   ]
  },
  {
   "cell_type": "markdown",
   "id": "c3fd3790",
   "metadata": {},
   "source": [
    "$$\n",
    "\\frac{1}{2\\pi}\n",
    "%\n",
    "\\left(\\frac{r-r_o}{\\left(x-x_o\\right)^2 + \\left(r-r_o\\right)^2}\\right) $$"
   ]
  },
  {
   "cell_type": "markdown",
   "id": "15238505",
   "metadata": {},
   "source": [
    "which is also what DFDC has for this term (though with the extra 1/2 on the outside in DFDC). (note when comparing to dfdc, they flipped the numerator and have a negative out front, but it's equivalent)\n",
    "\n",
    "Now going back to the first singular term, and using the same asypmtotic approximation as before for the elliptic integral of the first kind:"
   ]
  },
  {
   "cell_type": "markdown",
   "id": "2854e529",
   "metadata": {},
   "source": [
    "$$\n",
    "\\frac{1}{4\\pi r_o \\left(\\frac{r}{r_o}\\right)} \\ln \\frac{4}{\\sqrt{1-\\frac{4\\frac{r}{r_o}}{\\left(\\frac{x-x_o}{r_o}\\right)^2 + \\left(\\frac{r}{r_o}+1\\right)^2}}}\n",
    "$$"
   ]
  },
  {
   "cell_type": "markdown",
   "id": "ab3b9fd3-d747-4b5d-a346-d562696dfc84",
   "metadata": {},
   "source": [
    "using logrithm rules to pull out the square root and the 4 for now"
   ]
  },
  {
   "cell_type": "markdown",
   "id": "6af3b922-b624-4f26-ba22-851452fc2189",
   "metadata": {},
   "source": [
    "$$\n",
    "\\frac{1}{4\\pi r_o\\left(\\frac{r}{r_o}\\right)} \\left[\\ln(4) - 0.5 \\ln\\left(1-\\frac{4\\frac{r}{r_o}}{\\left(\\frac{x-x_o}{r_o}\\right)^2 + \\left(\\frac{r}{r_o}+1\\right)^2}\\right)\\right]\n",
    "$$"
   ]
  },
  {
   "cell_type": "markdown",
   "id": "731f404f-a41b-4884-ad33-b121655e222a",
   "metadata": {},
   "source": [
    "simplifying inside the second logrithm"
   ]
  },
  {
   "cell_type": "markdown",
   "id": "608c43c8-67e0-40a8-85d9-bde032bf27bb",
   "metadata": {},
   "source": [
    "$$\n",
    "\\begin{aligned}\n",
    "& 1-\\frac{4\\frac{r}{r_o}}{\\left(\\frac{x-x_o}{r_o}\\right)^2 + \\left(\\frac{r}{r_o}+1\\right)^2} \\\\\n",
    "%\n",
    "=& \\frac{{\\left(\\frac{x-x_o}{r_o}\\right)^2 + \\left(\\frac{r}{r_o}+1\\right)^2}-4\\frac{r}{r_o}}{\\left(\\frac{x-x_o}{r_o}\\right)^2 + \\left(\\frac{r}{r_o}+1\\right)^2}\\\\\n",
    "%\n",
    "=& \\frac{\\left(\\frac{x-x_o}{r_o}\\right)^2 + \\left(\\frac{r}{r_o}\\right)^2+2\\frac{r}{r_o}+1-4\\frac{r}{r_o}}{\\left(\\frac{x-x_o}{r_o}\\right)^2 + \\left(\\frac{r}{r_o}+1\\right)^2}\\\\\n",
    "%\n",
    "=& \\frac{\\left(\\frac{x-x_o}{r_o}\\right)^2 + \\left(\\frac{r}{r_o}\\right)^2-2\\frac{r}{r_o}+1}{\\left(\\frac{x-x_o}{r_o}\\right)^2 + \\left(\\frac{r}{r_o}+1\\right)^2}\\\\\n",
    "%\n",
    "=& \\frac{\\left(\\frac{x-x_o}{r_o}\\right)^2 + \\left(\\frac{r}{r_o}-1\\right)^2}{\\left(\\frac{x-x_o}{r_o}\\right)^2 + \\left(\\frac{r}{r_o}+1\\right)^2}\\\\\n",
    "%\n",
    "=& \\frac{\\left(x-x_o\\right)^2 + \\left(r-r_o\\right)^2}{\\left(x-x_o\\right)^2 + \\left(r+r_o\\right)^2}\n",
    "\\end{aligned}\n",
    "$$"
   ]
  },
  {
   "cell_type": "markdown",
   "id": "6bf2cd03-e025-4808-a971-777892b76ae3",
   "metadata": {},
   "source": [
    "plugging this into the full expression"
   ]
  },
  {
   "cell_type": "markdown",
   "id": "c78e4ec2-a2b3-4583-9304-39df226ad74a",
   "metadata": {},
   "source": [
    "$$\n",
    "\\frac{1}{4\\pi r_o\\left(\\frac{r}{r_o}\\right)} \\left[\\ln(4) - 0.5 \\ln\\left(\\frac{\\left(x-x_o\\right)^2 + \\left(r-r_o\\right)^2}{\\left(x-x_o\\right)^2 + \\left(r+r_o\\right)^2}\\right)\\right]\n",
    "$$"
   ]
  },
  {
   "cell_type": "markdown",
   "id": "568e5f06-a3d0-4482-b579-d3cfe70ca9ea",
   "metadata": {},
   "source": [
    "bringing the 4 back in, and resolving the non-singular denominator at $x=x_o$ and $r=r_o$"
   ]
  },
  {
   "cell_type": "markdown",
   "id": "70e03666-5b5a-4294-8c78-3e836c76a1ac",
   "metadata": {},
   "source": [
    "$$\n",
    "\\frac{1}{4\\pi r_o\\left(\\frac{r}{r_o}\\right)} \\left[ - 0.5 \\ln\\left(\\frac{\\left[\\left(x-x_o\\right)^2 + \\left(r-r_o\\right)^2\\right]}{16\\left(4r_o^2\\right)}\\right)\\right]\n",
    "$$"
   ]
  },
  {
   "cell_type": "markdown",
   "id": "53ad4d95-9518-4f08-8ffd-69e54326ed92",
   "metadata": {},
   "source": [
    "$$\n",
    "\\frac{1}{4\\pi r_o\\left(\\frac{r}{r_o}\\right)} \\left[ - 0.5 \\ln\\left(\\frac{\\left(x-x_o\\right)^2 + \\left(r-r_o\\right)^2}{64r_o^2}\\right)\\right]\n",
    "$$"
   ]
  },
  {
   "cell_type": "markdown",
   "id": "32fd97e3",
   "metadata": {},
   "source": [
    "and the outside denominator fraction is non-singular with $r/r_o = 1$"
   ]
  },
  {
   "cell_type": "markdown",
   "id": "8561a12c",
   "metadata": {},
   "source": [
    "$$\n",
    "\\frac{1}{4\\pi r_o} \\left[ - 0.5 \\ln\\left(\\frac{\\left(x-x_o\\right)^2 + \\left(r-r_o\\right)^2}{64r_o^2}\\right)\\right]\n",
    "$$"
   ]
  },
  {
   "cell_type": "markdown",
   "id": "7e2b55cc",
   "metadata": {},
   "source": [
    "so all together we have:"
   ]
  },
  {
   "cell_type": "markdown",
   "id": "2b8f397f",
   "metadata": {},
   "source": [
    "$$\n",
    "\\frac{1}{2\\pi}\n",
    "%\n",
    "\\left(\\frac{r-r_o}{\\left(x-x_o\\right)^2 + \\left(r-r_o\\right)^2}\\right) \n",
    "%\n",
    "-\\frac{1}{4\\pi r_o} \\left[ 0.5 \\ln\\left(\\frac{\\left(x-x_o\\right)^2 + \\left(r-r_o\\right)^2}{64r_o^2}\\right)\\right]\n",
    "$$"
   ]
  },
  {
   "cell_type": "markdown",
   "id": "0ff41170",
   "metadata": {},
   "source": [
    "DFDC conspicuously doesn't have the 1/64 in this case, why?"
   ]
  },
  {
   "cell_type": "markdown",
   "id": "96d36bd5",
   "metadata": {
    "jp-MarkdownHeadingCollapsed": true
   },
   "source": [
    "# analytic integrals to add back in"
   ]
  },
  {
   "cell_type": "markdown",
   "id": "a29dbab4",
   "metadata": {},
   "source": [
    "Now that we have all the singular parts that are subtracted, we need to take the integrals analytically.  \n",
    "We will integrate along the panel lengths, noting that the panel length, $\\Delta s = \\sqrt{\\left(x-x_o\\right)^2 + \\left(r-r_o\\right)^2}$\n",
    "\n",
    "Therefore, all of the non-logrithmic terms are analogous to the integral $\\int_s \\frac{r-r_o}{\\Delta s^2} ds = -\\frac{r-r_o}{\\Delta s} = 0$ when $r=r_o$ (the singular condition).\n",
    "\n",
    "This just leaves the logrithmic terms for which we can bring the constants out of the integral"
   ]
  },
  {
   "cell_type": "markdown",
   "id": "7875619e",
   "metadata": {},
   "source": [
    "$$\n",
    "\\begin{align}\n",
    "&\\frac{-1}{4\\pi r_o} \\int_s\\left[ \\ln\\left(\\frac{\\Delta s^2}{64r_o^2}\\right)\\right] ds\\\\\n",
    "=&\n",
    "\\frac{-1}{4\\pi r_o} \\left( -2 \\Delta s + \\Delta s \\ln\\frac{\\Delta s^2}{64 r_o^2}\\right)\\\\\n",
    "=&\n",
    "\\frac{\\Delta s}{2\\pi r_o} \\left( 1 + \\ln\\frac{8 r_o}{\\Delta s}\\right)\n",
    "\\end{align}\n",
    "$$"
   ]
  },
  {
   "cell_type": "markdown",
   "id": "2b0e73e0",
   "metadata": {},
   "source": [
    "this is close to what DFDC has, except they have a 16 and 2 rather than an 8 in the logrithm numerators.  they also multiply by the panel length later rather than in this expression where it is originally defined, but it's unclear if that is part of this result or if that is part of their integration scheme."
   ]
  },
  {
   "cell_type": "markdown",
   "id": "6892eb92-cce6-486f-a214-5707f589fdeb",
   "metadata": {},
   "source": [
    "# Learning how to use QuadGK.jl"
   ]
  },
  {
   "cell_type": "markdown",
   "id": "388fef0c-213d-4df9-a26f-2b128a2dc2c8",
   "metadata": {},
   "source": [
    "Let's just do a quick normal integral, say, cos(x) from -1 to 1, which should be about 1.6829."
   ]
  },
  {
   "cell_type": "code",
   "execution_count": 2,
   "id": "bfd53416",
   "metadata": {},
   "outputs": [],
   "source": [
    "using QuadGK"
   ]
  },
  {
   "cell_type": "code",
   "execution_count": 3,
   "id": "262c8293-23b0-4760-be47-a19b769a1491",
   "metadata": {},
   "outputs": [
    {
     "data": {
      "text/plain": [
       "(1.682941969615793, 1.9984014443252818e-15)"
      ]
     },
     "execution_count": 3,
     "metadata": {},
     "output_type": "execute_result"
    }
   ],
   "source": [
    "integral = quadgk(cos, -1, 1)"
   ]
  },
  {
   "cell_type": "markdown",
   "id": "fefeca61-a7a1-47cd-adad-6c92452f4be8",
   "metadata": {},
   "source": [
    "Looks like it works right out of the box, so now let's try to figure out how to set up a Cauchy Principle Value.\n",
    "\n",
    "From the QuadGK documentation we have the following example structure"
   ]
  },
  {
   "cell_type": "code",
   "execution_count": 4,
   "id": "8f6f0802-88ce-427a-9393-4c75699d9187",
   "metadata": {},
   "outputs": [
    {
     "data": {
      "text/plain": [
       "cauchy_quadgk_example (generic function with 1 method)"
      ]
     },
     "execution_count": 4,
     "metadata": {},
     "output_type": "execute_result"
    }
   ],
   "source": [
    "function cauchy_quadgk_example(g, a, b; kws...)\n",
    "    a < 0 < b || throw(ArgumentError(\"domain must include 0\"))\n",
    "    g₀ = g(0)\n",
    "    g₀int = b == -a ? zero(g₀) : g₀ * log(abs(b/a)) / (b - a)\n",
    "    return quadgk_count(x -> (g(x)-g₀)/x + g₀int, a, 0, b; kws...)\n",
    "end"
   ]
  },
  {
   "cell_type": "markdown",
   "id": "7d84e48e-d8f2-4eab-a1b3-600ee2d95469",
   "metadata": {},
   "source": [
    "Using an example problem from a paper on direct computation of Cauchy Principle values, we have $$\\int_{-1}^{2} \\frac{s^3+1}{s} ds \\approx 3.693147181$$\n",
    "Plugging into the example structure from quadgk gives"
   ]
  },
  {
   "cell_type": "code",
   "execution_count": 5,
   "id": "942454ce-ed78-4131-b781-1145e278941c",
   "metadata": {},
   "outputs": [
    {
     "data": {
      "text/plain": [
       "(3.6931471805599445, 4.440892098500626e-16, 30)"
      ]
     },
     "execution_count": 5,
     "metadata": {},
     "output_type": "execute_result"
    }
   ],
   "source": [
    "cauchy_quadgk_example(x -> (x^3+1), -1,2)"
   ]
  },
  {
   "cell_type": "markdown",
   "id": "b5fc7843-4742-48d1-a8a9-f8d103ef217c",
   "metadata": {},
   "source": [
    "which is the correct value."
   ]
  },
  {
   "cell_type": "markdown",
   "id": "4bb02d24-04f2-4ddc-b592-cbdd36c94470",
   "metadata": {},
   "source": [
    "## Thinking about the panel problem"
   ]
  },
  {
   "cell_type": "markdown",
   "id": "46651edb-eb41-461c-844b-691088cc6e0c",
   "metadata": {},
   "source": [
    "For our problem we can extract some useful information from this example, although our setup will need to be a bit different because our functions are not so simple.\n",
    "\n",
    "First, we probably want to transform the integration across each panel to be from -1 to 1, with the midpoint (singularity) lying at 0.\n",
    "So we'll need to map node1 to -1 and node2 to 1 and interpolate between them.\n",
    "Therefore we'll need to wrap our expressions for induced velocity in functions that take in a parameter and the panel nodes, convert the parameter to the position along the panel, and return the values of induced velocity.\n",
    "\n",
    "In order to pass in the panel nodes, we'll have to wrap things intelligently."
   ]
  },
  {
   "cell_type": "code",
   "execution_count": 6,
   "id": "861a3695-fc10-4e6c-a7ba-3ed7d0d9de1f",
   "metadata": {},
   "outputs": [
    {
     "data": {
      "text/plain": [
       "linear_transform (generic function with 1 method)"
      ]
     },
     "execution_count": 6,
     "metadata": {},
     "output_type": "execute_result"
    }
   ],
   "source": [
    "\"\"\"¬\n",
    "····linear_transform(range1, range2, values)¬\n",
    "¬\n",
    "Linear transfrom of values from range (source_range[1], raend) to\n",
    "↳ (target_range[1], target_range[end])¬\n",
    "¬\n",
    "**Arguments:**¬\n",
    "- `source_range::Vector{Float{` : range values come from¬\n",
    "- `target_range::Vector{Float}` : range onto which we are transforming¬\n",
    "- `source_values::Array{Float}` : array of source_values to transform¬\n",
    "¬\n",
    "**Returns:**¬\n",
    "·- `target_values::Array{Float}` : array of transformed source_values onto\n",
    " ↳ target range¬\n",
    "\"\"\"¬\n",
    "function linear_transform(source_range, target_range, source_values)\n",
    "    return target_range[1] .+ (target_range[end] - target_range[1]) .* (source_values .- source_range[1]) /(source_range[end] - source_range[1])\n",
    "end"
   ]
  },
  {
   "cell_type": "markdown",
   "id": "351d1a87-2946-46bb-8e85-231919cc4272",
   "metadata": {},
   "source": [
    "### Doing our own manual version of the QuadGK example:\n",
    "\n",
    "Let's first try doing the quadgk function manually using a parametric range.\n",
    "Remembering that when we transform the range to [0,1], we need to multiply the end result by the actual length of the range in order to have the correct scaling on the integral."
   ]
  },
  {
   "cell_type": "code",
   "execution_count": 7,
   "id": "c09ae9fe-21ae-4182-bbd7-b8a2c11eacee",
   "metadata": {},
   "outputs": [
    {
     "data": {
      "text/plain": [
       "(3.6931471805599454, 9.992007221626409e-16, 30)"
      ]
     },
     "execution_count": 7,
     "metadata": {},
     "output_type": "execute_result"
    }
   ],
   "source": [
    "function testfun(t)\n",
    "    x = linear_transform([0.0;1.0], [-1.0;2.0], t)\n",
    "\n",
    "    # function for numerator computation\n",
    "    f(var) = var^3+1\n",
    "    \n",
    "    #total\n",
    "    total=f(x)/x\n",
    "\n",
    "    #singular\n",
    "    singular=f(0)/x\n",
    "\n",
    "    #analytic\n",
    "    analytic = f(0) * log(abs(2.0)) / (3.0)\n",
    "    \n",
    "    # remember to scale by total length of integration range\n",
    "    return (total-singular+analytic)*3\n",
    "end\n",
    "\n",
    "#gives value of integral, error, and number of function calls\n",
    "I,B,C = quadgk_count(testfun, 0.0,1.0/3.0,1.0)"
   ]
  },
  {
   "cell_type": "markdown",
   "id": "de0724cc-5415-445a-94ad-53353585da8e",
   "metadata": {},
   "source": [
    "Now let's try seeing if it makes sense to return parts of the integral that would be associted with a linear strength distribution between nodes. we should just need to return the same values, but separated into weights t, and 1-t, for node 2 and node1 respectively. (need to think more about this, why would it be true?)"
   ]
  },
  {
   "cell_type": "code",
   "execution_count": 11,
   "id": "a7844701",
   "metadata": {},
   "outputs": [
    {
     "name": "stdout",
     "output_type": "stream",
     "text": [
      "Integral Components: [1.0965735902799725, 2.596573590279973]\n",
      "Total = 3.6931471805599454\n"
     ]
    }
   ],
   "source": [
    "function testfun(t)\n",
    "    x = linear_transform([0.0;1.0], [-1.0;2.0], t)\n",
    "\n",
    "    # function for numerator computation\n",
    "    f(var) = var^3+1\n",
    "    \n",
    "    #total\n",
    "    total=f(x)/x\n",
    "\n",
    "    #singular\n",
    "    singular=f(0)/x\n",
    "\n",
    "    #analytic\n",
    "    analytic = f(0) * log(abs(2.0)) / (3.0)\n",
    "    \n",
    "    # separate components for each node, weighted by location.\n",
    "    return (total-singular+analytic)*3 *[1.0-t; t]\n",
    "end\n",
    "\n",
    "# gives value of integral and error\n",
    "I,B = quadgk(testfun, 0.0,1/3,1.0)\n",
    "println(\"Integral Components: \", I)\n",
    "println(\"Total = \", sum(I))"
   ]
  },
  {
   "cell_type": "markdown",
   "id": "58e0968c-eb08-43ee-b35d-0a8c26bf7bb3",
   "metadata": {},
   "source": [
    "The total comes out the same, but how would I determine if the individual components make sense?  I mean, if it's a linear distribution, then that has to be how they are weighted, so it should be correct just by how it's set up.  I just need to formalize which one is t and which one is 1-t."
   ]
  },
  {
   "cell_type": "markdown",
   "id": "2f7f825f-2e73-4205-98df-6d14f4ae53a2",
   "metadata": {},
   "source": [
    "## How to set it up for the panel case?"
   ]
  },
  {
   "cell_type": "code",
   "execution_count": 9,
   "id": "470f9e8f-4ee8-48f8-842c-b49a1a080e00",
   "metadata": {},
   "outputs": [
    {
     "data": {
      "text/plain": [
       "vz_self (generic function with 1 method)"
      ]
     },
     "execution_count": 9,
     "metadata": {},
     "output_type": "execute_result"
    }
   ],
   "source": [
    "function vz_self(t,nodes, controlpoint)\n",
    "    #convert t into z,r based on nodes\n",
    "    z = linear_transform([0.0;1.0], [nodes[1][1];nodes[2][1]], t)\n",
    "    r = linear_transform([0.0;1.0], [nodes[1][2];nodes[2][2]], t)\n",
    "    ds = sqrt((nodes[2][1]-nodes[1][1])^2 + (nodes[2][2]-nodes[1][2])^2)\n",
    "    \n",
    "    xi, rho, m, r0 = calculate_xrm(controlpoint, [z;r])\n",
    "    \n",
    "    #obtain total integral\n",
    "    total = vortex_ring_vz(xi, rho, m, r0, 1.0) #shouldn't need influence length\n",
    "    \n",
    "    #TODO: obtain singular part\n",
    "    singular = vortex_ring_vz_singular()\n",
    "    \n",
    "    #TODO: obtain analytic partu\n",
    "    analytic = vortex_ring_vz_analytic()\n",
    "    \n",
    "    #return (total - singular + analytic) * total panel length * [contribution due to node1; contribution due to node2]\n",
    "    return (total - singular + analytic)*ds*[1.0-t; t]\n",
    "end"
   ]
  },
  {
   "cell_type": "code",
   "execution_count": 10,
   "id": "a6261687-b432-4f25-bcd9-a8c2f362888a",
   "metadata": {},
   "outputs": [
    {
     "data": {
      "text/plain": [
       "integrate_self (generic function with 1 method)"
      ]
     },
     "execution_count": 10,
     "metadata": {},
     "output_type": "execute_result"
    }
   ],
   "source": [
    "function integrate_self(nodes, controlpoint)\n",
    "\n",
    "    # define functions taking in nodes\n",
    "    fz(t) = vzself(t,nodes, controlpoint)\n",
    "    fr(t) = vrself(t,nodes, controlpoint)\n",
    "\n",
    "    # numerically integrate over parametric range of 0 to 1 (with singularity at 0.5)\n",
    "    vz = guadgk(fz,0.0,0.5,1.0)\n",
    "    vr = guadgk(fr,0.0,0.5,1.0)\n",
    "    \n",
    "    return vz,vr\n",
    "end"
   ]
  }
 ],
 "metadata": {
  "kernelspec": {
   "display_name": "Julia 1.9.3",
   "language": "julia",
   "name": "julia-1.9"
  },
  "language_info": {
   "file_extension": ".jl",
   "mimetype": "application/julia",
   "name": "julia",
   "version": "1.9.3"
  }
 },
 "nbformat": 4,
 "nbformat_minor": 5
}
