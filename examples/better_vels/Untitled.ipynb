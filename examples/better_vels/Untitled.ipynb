{
 "cells": [
  {
   "cell_type": "markdown",
   "id": "3875ab1a",
   "metadata": {},
   "source": [
    "# subtraction of singularity"
   ]
  },
  {
   "cell_type": "markdown",
   "id": "96772d4a",
   "metadata": {},
   "source": [
    "## full expression for unit axial induced velocity due to vortex ring"
   ]
  },
  {
   "cell_type": "markdown",
   "id": "cdc08aa3",
   "metadata": {},
   "source": [
    "$$ v_{x_{ij}}^\\gamma =\\int_{(x_{i_1},r_{i_1})}^{(x_{i_2},r_{i_2})} \n",
    "%\n",
    "\\left[ \n",
    "%\n",
    "\\frac{\\int_0^{\\pi/2}\\frac{1}{\\left[1-\\left(\\frac{4\\frac{r_i}{r_j}}{\\left(\\frac{x_i-x_j}{r_j}\\right)^2 + \\left(\\frac{r_i}{r_j}+1\\right)^2}\\right)\\sin^2\\theta\\right]^{1/2}}d\\theta}\n",
    "{2\\pi r_j \\left[\\left(\\frac{x_i-x_j}{r_j}\\right)^2 + \\left(\\frac{r_i}{r_j}+1\\right)^2 \\right]^{1/2}}  - \n",
    "%\n",
    "\\frac{\\int_0^{\\pi/2}\\left[1-\\left(\\frac{4\\frac{r_i}{r_j}}{\\left(\\frac{x_i-x_j}{r_j}\\right)^2 + \\left(\\frac{r_i}{r_j}+1\\right)^2}\\right)\\sin^2\\theta\\right]^{1/2}d\\theta}{2\\pi r_j \\left[\\left(\\frac{x_i-x_j}{r_j}\\right)^2 + \\left(\\frac{r_i}{r_j}+1\\right)^2 \\right]^{1/2}}  \n",
    "%\n",
    "\\left(1+\\frac{2 \\left(\\frac{r_i-r_j}{r_j}\\right)}{\\left(\\frac{x_i-x_j}{r_j}\\right)^2 + \\left(\\frac{r_i-r_j}{r_j}\\right)^2}\\right) \\right] ds $$"
   ]
  },
  {
   "cell_type": "markdown",
   "id": "ed285b6f",
   "metadata": {},
   "source": [
    "Let's plug in $x_i=x_j$ and $r_i = r_j$ and simplify to show where the singularities in the integral lie"
   ]
  },
  {
   "cell_type": "markdown",
   "id": "49372dcc",
   "metadata": {},
   "source": [
    "$$ \n",
    "\\frac{\\int_0^{\\pi/2}\\frac{1}{\\left[1-\\left(\\frac{4}{\\left(0\\right)^2 + \\left(1+1\\right)^2}\\right)\\sin^2\\theta\\right]^{1/2}}d\\theta}\n",
    "{2\\pi r_j \\left[\\left(0\\right)^2 + \\left(1+1\\right)^2 \\right]^{1/2}}  - \n",
    "%\n",
    "\\frac{\\int_0^{\\pi/2}\\left[1-\\left(\\frac{4}{\\left(0\\right)^2 + \\left(1+1\\right)^2}\\right)\\sin^2\\theta\\right]^{1/2}d\\theta}{2\\pi r_j \\left[\\left(0\\right)^2 + \\left(1+1\\right)^2 \\right]^{1/2}}  \n",
    "%\n",
    "\\left(1+\\frac{2 \\left(1 - 1\\right)}{\\left(0\\right)^2 + \\left(1-1\\right)^2}\\right) $$"
   ]
  },
  {
   "cell_type": "markdown",
   "id": "20e306a7",
   "metadata": {},
   "source": [
    "the elliptic integral of the second kind goes to 1 in this case, so we can simplify to"
   ]
  },
  {
   "cell_type": "markdown",
   "id": "449e4e55",
   "metadata": {},
   "source": [
    "$$ \n",
    "\\frac{\\int_0^{\\pi/2}\\frac{1}{\\left[1-\\sin^2\\theta\\right]^{1/2}}d\\theta}\n",
    "{4\\pi r_i}  - \n",
    "%\n",
    "\\frac{1}{4\\pi r_i}  \n",
    "%\n",
    "\\left(1+\\frac{0}{0}\\right)$$"
   ]
  },
  {
   "cell_type": "markdown",
   "id": "d8390490",
   "metadata": {},
   "source": [
    "looking at the second term, the 1 is not a singular term, so we'll ignore it for our purposes here, which leaves the following as the singular part of the second term"
   ]
  },
  {
   "cell_type": "markdown",
   "id": "3a9d2ea3",
   "metadata": {},
   "source": [
    "$$\n",
    "\\frac{-E}{2\\pi r_j \\left[\\left(\\frac{x_i-x_j}{r_j}\\right)^2 + \\left(\\frac{r_i}{r_j}+1\\right)^2\\right]^{1/2}}\n",
    "%\n",
    "\\left(\\frac{2 \\left(\\frac{r_i-r_j}{r_j}\\right)}{\\left(\\frac{x_i-x_j}{r_j}\\right)^2 + \\left(\\frac{r_i-r_j}{r_j}\\right)^2}\\right) $$"
   ]
  },
  {
   "cell_type": "markdown",
   "id": "6dd2ac96",
   "metadata": {},
   "source": [
    "at the singular point, the left denominator here isn't singular, so we can simplify that out, as well as the elliptic integral, E."
   ]
  },
  {
   "cell_type": "markdown",
   "id": "528d8471",
   "metadata": {},
   "source": [
    "$$\n",
    "\\frac{-1}{4\\pi r_j }\n",
    "%\n",
    "\\left(\\frac{2 \\left(\\frac{r_i-r_j}{r_j}\\right)}{\\left(\\frac{x_i-x_j}{r_j}\\right)^2 + \\left(\\frac{r_i-r_j}{r_j}\\right)^2}\\right) $$"
   ]
  },
  {
   "cell_type": "markdown",
   "id": "5459b40f",
   "metadata": {},
   "source": [
    "then simplifying further by noting the $r_j^2$ cancels"
   ]
  },
  {
   "cell_type": "markdown",
   "id": "f92ffc9b",
   "metadata": {},
   "source": [
    "$$\n",
    "\\frac{-1}{4\\pi r_j^2 }\n",
    "%\n",
    "\\left(\\frac{2 \\left(r_i-r_j\\right)}{\\left(\\frac{x_i-x_j}{r_j}\\right)^2 + \\left(\\frac{r_i-r_j}{r_j}\\right)^2}\\right) $$"
   ]
  },
  {
   "cell_type": "markdown",
   "id": "be3af91b",
   "metadata": {},
   "source": [
    "$$\n",
    "\\frac{r_j-r_i}{2\\pi\\left[\\left(x_i-x_j\\right)^2 + \\left(r_i-r_j\\right)^2\\right] }$$"
   ]
  },
  {
   "cell_type": "markdown",
   "id": "2fe5f742",
   "metadata": {},
   "source": [
    "just as a note, this is precisely what DFDC has, with the exception that they have a 4 on the bottom, perhaps due to a coordinate transformation where the singular point lies on t=0.5, where t is the integration parameter."
   ]
  },
  {
   "cell_type": "markdown",
   "id": "e370c99f",
   "metadata": {},
   "source": [
    "Now for the first term, we need to adress the non-convergences of the elliptic integral of the first kind.\n",
    "\n",
    "the asymptotic behaviour of this integral is well known to be"
   ]
  },
  {
   "cell_type": "markdown",
   "id": "273e048c",
   "metadata": {},
   "source": [
    "$$\n",
    "K \\approx \\ln \\frac{4}{\\sqrt{1-\\frac{4\\frac{r_i}{r_j}}{\\left(\\frac{x_i-x_j}{r_j}\\right)^2 + \\left(\\frac{r_i}{r_j}+1\\right)^2}}}\n",
    "$$"
   ]
  },
  {
   "cell_type": "markdown",
   "id": "b4f896c9",
   "metadata": {},
   "source": [
    "so the whole singular term here can be approximated as"
   ]
  },
  {
   "cell_type": "markdown",
   "id": "a18fe214",
   "metadata": {},
   "source": [
    "$$\n",
    "\\frac{1}{4\\pi r_j} \\ln \\frac{4}{\\sqrt{1-\\frac{4\\frac{r_i}{r_j}}{\\left(\\frac{x_i-x_j}{r_j}\\right)^2 + \\left(\\frac{r_i}{r_j}+1\\right)^2}}}\n",
    "$$"
   ]
  },
  {
   "cell_type": "markdown",
   "id": "7bd43a42",
   "metadata": {},
   "source": [
    "**TODO: now how to work with this**"
   ]
  },
  {
   "cell_type": "markdown",
   "id": "2ddd736e",
   "metadata": {},
   "source": [
    "## for later: set up for quadgk"
   ]
  },
  {
   "cell_type": "markdown",
   "id": "2696a8cd",
   "metadata": {},
   "source": [
    "maybe something like this according to quadgk docs?  (need to understand what they mean by adding analytic expression back into the integrand)\n"
   ]
  },
  {
   "cell_type": "markdown",
   "id": "0e6b13fd",
   "metadata": {},
   "source": [
    "$$ f = v_\\text{total} - v_\\text{singular} + \\frac{v_\\text{analytic}}{\\Delta s} $$"
   ]
  },
  {
   "cell_type": "markdown",
   "id": "c44e6c08",
   "metadata": {},
   "source": [
    "probably going to need to change bounds of integration to -1 to 1 with midpoint at 0  (DFDC has midpoint at 0.5, which is probably why they have an extra 1/2 in their singular parts)"
   ]
  },
  {
   "cell_type": "code",
   "execution_count": null,
   "id": "33760c6d",
   "metadata": {},
   "outputs": [],
   "source": []
  }
 ],
 "metadata": {
  "kernelspec": {
   "display_name": "Julia 1.8.2",
   "language": "julia",
   "name": "julia-1.8"
  },
  "language_info": {
   "file_extension": ".jl",
   "mimetype": "application/julia",
   "name": "julia",
   "version": "1.8.2"
  }
 },
 "nbformat": 4,
 "nbformat_minor": 5
}
