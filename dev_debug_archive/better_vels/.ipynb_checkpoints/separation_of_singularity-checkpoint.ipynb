{
 "cells": [
  {
   "cell_type": "markdown",
   "id": "c075f60e",
   "metadata": {},
   "source": [
    "# TODO\n",
    "\n",
    "- put together script for using quadgk for nominal case\n",
    "- put together script for using quadgk for separation of singularity stuff\n",
    "- put together a small fortran code, just copy/paste the relevant bits from DFDC, to do unit checks on the linear distribution panels for both far and self-induced cases"
   ]
  },
  {
   "cell_type": "markdown",
   "id": "bfcb63f7",
   "metadata": {},
   "source": [
    "# subtraction of singularity"
   ]
  },
  {
   "cell_type": "markdown",
   "id": "c93c3fe7",
   "metadata": {},
   "source": [
    "## unit axial induced velocity due to vortex ring"
   ]
  },
  {
   "cell_type": "markdown",
   "id": "2464fed0",
   "metadata": {},
   "source": [
    "Starting with the full expression, with some things expanded out so we can see what we're dealing with"
   ]
  },
  {
   "cell_type": "markdown",
   "id": "138f1459",
   "metadata": {},
   "source": [
    "$$ \n",
    "\\begin{equation}\n",
    "v_{x_{ij}}^\\gamma =\\int_{(x_{i_1},r_{i_1})}^{(x_{i_2},r_{i_2})} \n",
    "%\n",
    "\\left[ \n",
    "%\n",
    "\\frac{\\int_0^{\\pi/2}\\frac{1}{\\left[1-\\left(\\frac{4\\frac{r_i}{r_j}}{\\left(\\frac{x_i-x_j}{r_j}\\right)^2 + \\left(\\frac{r_i}{r_j}+1\\right)^2}\\right)\\sin^2\\theta\\right]^{1/2}}d\\theta}\n",
    "{2\\pi r_j \\left[\\left(\\frac{x_i-x_j}{r_j}\\right)^2 + \\left(\\frac{r_i}{r_j}+1\\right)^2 \\right]^{1/2}}  - \n",
    "%\n",
    "\\frac{\\int_0^{\\pi/2}\\left[1-\\left(\\frac{4\\frac{r_i}{r_j}}{\\left(\\frac{x_i-x_j}{r_j}\\right)^2 + \\left(\\frac{r_i}{r_j}+1\\right)^2}\\right)\\sin^2\\theta\\right]^{1/2}d\\theta}{2\\pi r_j \\left[\\left(\\frac{x_i-x_j}{r_j}\\right)^2 + \\left(\\frac{r_i}{r_j}+1\\right)^2 \\right]^{1/2}}  \n",
    "%\n",
    "\\left(1+\\frac{2 \\left(\\frac{r_i-r_j}{r_j}\\right)}{\\left(\\frac{x_i-x_j}{r_j}\\right)^2 + \\left(\\frac{r_i-r_j}{r_j}\\right)^2}\\right) \\right] ds \n",
    "\\end{equation}\n",
    "$$"
   ]
  },
  {
   "cell_type": "markdown",
   "id": "5b3f23ba",
   "metadata": {},
   "source": [
    "Let's plug in $x_i=x_j$ and $r_i = r_j$ and simplify to show where the singularities in the integral lie"
   ]
  },
  {
   "cell_type": "markdown",
   "id": "8229e3de",
   "metadata": {},
   "source": [
    "$$ \n",
    "\\frac{\\int_0^{\\pi/2}\\frac{1}{\\left[1-\\left(\\frac{4}{\\left(0\\right)^2 + \\left(1+1\\right)^2}\\right)\\sin^2\\theta\\right]^{1/2}}d\\theta}\n",
    "{2\\pi r_j \\left[\\left(0\\right)^2 + \\left(1+1\\right)^2 \\right]^{1/2}}  - \n",
    "%\n",
    "\\frac{\\int_0^{\\pi/2}\\left[1-\\left(\\frac{4}{\\left(0\\right)^2 + \\left(1+1\\right)^2}\\right)\\sin^2\\theta\\right]^{1/2}d\\theta}{2\\pi r_j \\left[\\left(0\\right)^2 + \\left(1+1\\right)^2 \\right]^{1/2}}  \n",
    "%\n",
    "\\left(1+\\frac{2 \\left(1 - 1\\right)}{\\left(0\\right)^2 + \\left(1-1\\right)^2}\\right) $$"
   ]
  },
  {
   "cell_type": "markdown",
   "id": "d3fd6dbf",
   "metadata": {},
   "source": [
    "the elliptic integral of the second kind goes to 1 in this case, so we can simplify to"
   ]
  },
  {
   "cell_type": "markdown",
   "id": "6f61ccd3",
   "metadata": {},
   "source": [
    "$$ \n",
    "\\frac{\\int_0^{\\pi/2}\\frac{1}{\\left[1-\\sin^2\\theta\\right]^{1/2}}d\\theta}\n",
    "{4\\pi r_i}  - \n",
    "%\n",
    "\\frac{1}{4\\pi r_i}  \n",
    "%\n",
    "\\left(1+\\frac{0}{0}\\right)$$"
   ]
  },
  {
   "cell_type": "markdown",
   "id": "c167c7e9",
   "metadata": {},
   "source": [
    "looking at the second term, the 1 is not a singular term, so we'll ignore it for our purposes here (it would have been eliminated had we started from a fully expanded expression), which leaves the following as the singular part of the second term"
   ]
  },
  {
   "cell_type": "markdown",
   "id": "bc966218",
   "metadata": {},
   "source": [
    "$$\n",
    "\\frac{-E}{2\\pi r_j \\left[\\left(\\frac{x_i-x_j}{r_j}\\right)^2 + \\left(\\frac{r_i}{r_j}+1\\right)^2\\right]^{1/2}}\n",
    "%\n",
    "\\left(\\frac{2 \\left(\\frac{r_i-r_j}{r_j}\\right)}{\\left(\\frac{x_i-x_j}{r_j}\\right)^2 + \\left(\\frac{r_i-r_j}{r_j}\\right)^2}\\right) $$"
   ]
  },
  {
   "cell_type": "markdown",
   "id": "95dfdb15",
   "metadata": {},
   "source": [
    "at the singular point, the outer denominator here isn't singular, so we can simplify that (it goes to 2 when $x_i=x_j$ and $r_i=r_j$), as well as the elliptic integral, E, which goes to 1."
   ]
  },
  {
   "cell_type": "markdown",
   "id": "2ebc6cd5",
   "metadata": {},
   "source": [
    "$$\n",
    "\\frac{-1}{4\\pi r_j }\n",
    "%\n",
    "\\left(\\frac{2 \\left(\\frac{r_i-r_j}{r_j}\\right)}{\\left(\\frac{x_i-x_j}{r_j}\\right)^2 + \\left(\\frac{r_i-r_j}{r_j}\\right)^2}\\right) $$"
   ]
  },
  {
   "cell_type": "markdown",
   "id": "0ea588df",
   "metadata": {},
   "source": [
    "then simplifying further by noting the 2 and $r_j^2$ cancels"
   ]
  },
  {
   "cell_type": "markdown",
   "id": "440759d4",
   "metadata": {},
   "source": [
    "$$\n",
    "\\frac{-1}{4\\pi r_j^2 }\n",
    "%\n",
    "\\left(\\frac{2 \\left(r_i-r_j\\right)}{\\left(\\frac{x_i-x_j}{r_j}\\right)^2 + \\left(\\frac{r_i-r_j}{r_j}\\right)^2}\\right) $$"
   ]
  },
  {
   "cell_type": "markdown",
   "id": "3a041d4a",
   "metadata": {},
   "source": [
    "$$\n",
    "\\frac{r_j-r_i}{2\\pi\\left[\\left(x_i-x_j\\right)^2 + \\left(r_i-r_j\\right)^2\\right] }$$"
   ]
  },
  {
   "cell_type": "markdown",
   "id": "9370baab",
   "metadata": {},
   "source": [
    "just as a note, this is precisely what DFDC has, with the exception that they have a 4 on the bottom, perhaps due to a coordinate transformation where the singular point lies on t=0.5, where t is the integration parameter."
   ]
  },
  {
   "cell_type": "markdown",
   "id": "5b2e8fba",
   "metadata": {},
   "source": [
    "Now for the first term, we need to adress the non-convergence of the elliptic integral of the first kind.\n",
    "\n",
    "the asymptotic behaviour of the complete elliptic integral of the first kind, K(m), as m approaches 1; where $ m = \\frac{4\\frac{r_i}{r_j}}{\\left(\\frac{x_i-x_j}{r_j}\\right)^2 + \\left(\\frac{r_i}{r_j}+1\\right)^2} $\n",
    " is well known to be"
   ]
  },
  {
   "cell_type": "markdown",
   "id": "493eb845",
   "metadata": {},
   "source": [
    "$$\n",
    "\\begin{equation}\n",
    "K \\approx \\ln \\frac{4}{\\sqrt{1-\\frac{4\\frac{r_i}{r_j}}{\\left(\\frac{x_i-x_j}{r_j}\\right)^2 + \\left(\\frac{r_i}{r_j}+1\\right)^2}}}\n",
    "\\end{equation}\n",
    "$$"
   ]
  },
  {
   "cell_type": "markdown",
   "id": "ac70e173",
   "metadata": {},
   "source": [
    "so the whole singular term here can be approximated as"
   ]
  },
  {
   "cell_type": "markdown",
   "id": "174b0055",
   "metadata": {},
   "source": [
    "$$\n",
    "\\frac{1}{4\\pi r_j} \\ln \\frac{4}{\\sqrt{1-\\frac{4\\frac{r_i}{r_j}}{\\left(\\frac{x_i-x_j}{r_j}\\right)^2 + \\left(\\frac{r_i}{r_j}+1\\right)^2}}}\n",
    "$$"
   ]
  },
  {
   "cell_type": "markdown",
   "id": "8bcbc198",
   "metadata": {},
   "source": [
    "using logrithm rules to eliminate the square root and pulling out the 4 for now"
   ]
  },
  {
   "cell_type": "markdown",
   "id": "38a968c8",
   "metadata": {},
   "source": [
    "$$\n",
    "\\frac{1}{4\\pi r_j} \\left[\\ln(4) - 0.5 \\ln\\left(1-\\frac{4\\frac{r_i}{r_j}}{\\left(\\frac{x_i-x_j}{r_j}\\right)^2 + \\left(\\frac{r_i}{r_j}+1\\right)^2}\\right)\\right]\n",
    "$$"
   ]
  },
  {
   "cell_type": "markdown",
   "id": "8469162c",
   "metadata": {},
   "source": [
    "simplifying inside the second logrithm"
   ]
  },
  {
   "cell_type": "markdown",
   "id": "da2085b3",
   "metadata": {},
   "source": [
    "$$\n",
    "\\begin{aligned}\n",
    "& 1-\\frac{4\\frac{r_i}{r_j}}{\\left(\\frac{x_i-x_j}{r_j}\\right)^2 + \\left(\\frac{r_i}{r_j}+1\\right)^2} \\\\\n",
    "%\n",
    "=& \\frac{{\\left(\\frac{x_i-x_j}{r_j}\\right)^2 + \\left(\\frac{r_i}{r_j}+1\\right)^2}-4\\frac{r_i}{r_j}}{\\left(\\frac{x_i-x_j}{r_j}\\right)^2 + \\left(\\frac{r_i}{r_j}+1\\right)^2}\\\\\n",
    "%\n",
    "=& \\frac{\\left(\\frac{x_i-x_j}{r_j}\\right)^2 + \\left(\\frac{r_i}{r_j}\\right)^2+2\\frac{r_i}{r_j}+1-4\\frac{r_i}{r_j}}{\\left(\\frac{x_i-x_j}{r_j}\\right)^2 + \\left(\\frac{r_i}{r_j}+1\\right)^2}\\\\\n",
    "%\n",
    "=& \\frac{\\left(\\frac{x_i-x_j}{r_j}\\right)^2 + \\left(\\frac{r_i}{r_j}\\right)^2-2\\frac{r_i}{r_j}+1}{\\left(\\frac{x_i-x_j}{r_j}\\right)^2 + \\left(\\frac{r_i}{r_j}+1\\right)^2}\\\\\n",
    "%\n",
    "=& \\frac{\\left(\\frac{x_i-x_j}{r_j}\\right)^2 + \\left(\\frac{r_i}{r_j}-1\\right)^2}{\\left(\\frac{x_i-x_j}{r_j}\\right)^2 + \\left(\\frac{r_i}{r_j}+1\\right)^2}\\\\\n",
    "%\n",
    "=& \\frac{\\left(x_i-x_j\\right)^2 + \\left(r_i-r_j\\right)^2}{\\left(x_i-x_j\\right)^2 + \\left(r_i+r_j\\right)^2}\n",
    "\\end{aligned}\n",
    "$$"
   ]
  },
  {
   "cell_type": "markdown",
   "id": "abc5bec3",
   "metadata": {},
   "source": [
    "plugging this into the full expression"
   ]
  },
  {
   "cell_type": "markdown",
   "id": "2526e8cb",
   "metadata": {},
   "source": [
    "$$\n",
    "\\frac{1}{4\\pi r_j} \\left[\\ln(4) - 0.5 \\ln\\left(\\frac{\\left(x_i-x_j\\right)^2 + \\left(r_i-r_j\\right)^2}{\\left(x_i-x_j\\right)^2 + \\left(r_i+r_j\\right)^2}\\right)\\right]\n",
    "$$"
   ]
  },
  {
   "cell_type": "markdown",
   "id": "3976a0c8",
   "metadata": {},
   "source": [
    "bringing the 4 back in, and resolving the non-singular denominator at $x_i=x_j$ and $r_i=r_j$"
   ]
  },
  {
   "cell_type": "markdown",
   "id": "4541edf8",
   "metadata": {},
   "source": [
    "$$\n",
    "\\frac{1}{4\\pi r_j} \\left[ - 0.5 \\ln\\left(\\frac{\\left[\\left(x_i-x_j\\right)^2 + \\left(r_i-r_j\\right)^2\\right]}{16\\left(4r_j^2\\right)}\\right)\\right]\n",
    "$$"
   ]
  },
  {
   "cell_type": "markdown",
   "id": "fa075da9",
   "metadata": {},
   "source": [
    "$$\n",
    "\\frac{1}{4\\pi r_j} \\left[ - 0.5 \\ln\\left(\\frac{\\left(x_i-x_j\\right)^2 + \\left(r_i-r_j\\right)^2}{64r_j^2}\\right)\\right]\n",
    "$$"
   ]
  },
  {
   "cell_type": "markdown",
   "id": "eedf4c37",
   "metadata": {},
   "source": [
    "Note: this is what DFDC has. We're also still missing an extra 1/2 on the outside as well, again, likely due to their integration bounds"
   ]
  },
  {
   "cell_type": "markdown",
   "id": "a9f7030d",
   "metadata": {},
   "source": [
    "now we have both of the singular pieces that we need to subtract. Together they are:"
   ]
  },
  {
   "cell_type": "markdown",
   "id": "38f8bd18",
   "metadata": {},
   "source": [
    "$$\n",
    "\\frac{r_j-r_i}{2\\pi\\left[\\left(x_i-x_j\\right)^2 + \\left(r_i-r_j\\right)^2\\right] }\n",
    "%\n",
    "-\\frac{1}{4\\pi r_j} \\left[ 0.5 \\ln\\left(\\frac{\\left(x_i-x_j\\right)^2 + \\left(r_i-r_j\\right)^2}{64r_j^2}\\right)\\right]\n",
    "$$"
   ]
  },
  {
   "cell_type": "markdown",
   "id": "8d918624",
   "metadata": {},
   "source": [
    "## unit radial induced velocity from vortex ring"
   ]
  },
  {
   "cell_type": "markdown",
   "id": "692e48ab",
   "metadata": {},
   "source": [
    "The expression here is similar, but sufficiently different to that of the axial induced velocity that we will again start with the nearly fully expanded version."
   ]
  },
  {
   "cell_type": "markdown",
   "id": "d69e422a",
   "metadata": {},
   "source": [
    "$$ \n",
    "\\begin{equation}\n",
    "v_{r_{ij}}^\\gamma =\\int_{(x_{i_1},r_{i_1})}^{(x_{i_2},r_{i_2})} \n",
    "\\left[ \n",
    "%\n",
    "\\left(\\frac{x_i-x_j}{r_j}\\right) \\frac{\\int_0^{\\pi/2}\\frac{1}{\\left[1-\\left(\\frac{4\\frac{r_i}{r_j}}{\\left(\\frac{x_i-x_j}{r_j}\\right)^2 + \\left(\\frac{r_i}{r_j}+1\\right)^2}\\right)\\sin^2\\theta\\right]^{1/2}}d\\theta}\n",
    "{2\\pi r_j \\left(\\frac{r_i}{r_j}\\right) \\left[\\left(\\frac{x_i-x_j}{r_j}\\right)^2 + \\left(\\frac{r_i}{r_j}+1\\right)^2 \\right]^{1/2}}  - \n",
    "%\n",
    "\\left(\\frac{x_i-x_j}{r_j}\\right) \\frac{\\int_0^{\\pi/2}\\left[1-\\left(\\frac{4\\frac{r_i}{r_j}}{\\left(\\frac{x_i-x_j}{r_j}\\right)^2 + \\left(\\frac{r_i}{r_j}+1\\right)^2}\\right)\\sin^2\\theta\\right]^{1/2}d\\theta}{2\\pi r_j \\left(\\frac{r_i}{r_j}\\right) \\left[\\left(\\frac{x_i-x_j}{r_j}\\right)^2 + \\left(\\frac{r_i}{r_j}+1\\right)^2 \\right]^{1/2}}  \n",
    "%\n",
    "\\left(1+\\frac{2 \\left(\\frac{r_i}{r_j}\\right)}{\\left(\\frac{x_i-x_j}{r_j}\\right)^2 + \\left(\\frac{r_i-r_j}{r_j}\\right)^2}\\right) \\right] ds \n",
    "\\end{equation}$$"
   ]
  },
  {
   "cell_type": "markdown",
   "id": "70be8f00",
   "metadata": {},
   "source": [
    "As before, we'll start with the second term.  Again, the elliptic integral of the second kind will go to 1 here, the $r_i/r_j$ will cancel, along with the $r_j^2$, in addition the non-singular part of the denominator again goes to 2 (which also cancels), so we will be left with"
   ]
  },
  {
   "cell_type": "markdown",
   "id": "3c4acdc1",
   "metadata": {},
   "source": [
    "$$-\\frac{x_i-x_j}{2\\pi\\left[\\left(x_i-x_j\\right)^2 + \\left(r_i-r_j\\right)^2\\right]} $$"
   ]
  },
  {
   "cell_type": "markdown",
   "id": "8042a6d1",
   "metadata": {},
   "source": [
    "The first term, which was singular before, simplifies down similarly to an expression analogous to $x \\ln(x)$ which is not, in fact, singular, and so the above expression is the entire singular part for the radial velocity induced by a vortex ring."
   ]
  },
  {
   "cell_type": "markdown",
   "id": "5142ad48",
   "metadata": {},
   "source": [
    "## unit axial induced velocity from source ring"
   ]
  },
  {
   "cell_type": "markdown",
   "id": "3e581817",
   "metadata": {},
   "source": [
    "Since we've already determined the singular parts we'll encounter here, we won't expand everything out completely. Especially since this induced velocity expression does not include an elliptic integral of the first kind, things will proceed smoothly."
   ]
  },
  {
   "cell_type": "markdown",
   "id": "fb00ad66",
   "metadata": {},
   "source": [
    "$$ \n",
    "\\begin{equation}\n",
    "v_{x_{ij}}^\\sigma =\\int_{(x_{i_1},r_{i_1})}^{(x_{i_2},r_{i_2})} \n",
    "%\n",
    "\\left[ \n",
    "\\frac{2\\left(\\frac{x_i-x_j}{r_j}\\right)E}{2\\pi r_j \\left[\\left(\\frac{x_i-x_j}{r_j}\\right)^2 + \\left(\\frac{r_i}{r_j}+1\\right)^2 \\right]^{1/2}\\left(\\frac{x_i-x_j}{r_j}\\right)^2 + \\left(\\frac{r_i-r_j}{r_j}\\right)^2}  \n",
    " \\right] ds \n",
    " \\end{equation}\n",
    " $$"
   ]
  },
  {
   "cell_type": "markdown",
   "id": "d6540061",
   "metadata": {},
   "source": [
    "Following similar procedures as before, we let $x_i=x_j$ and $r_i=r_j$ for non-singular pieces and remember that E goes to 1 in that case, and the $r_j^2$ cancels leaving us with the singular term:"
   ]
  },
  {
   "cell_type": "markdown",
   "id": "89930f2f",
   "metadata": {},
   "source": [
    "$$\\frac{x_i-x_j}{2\\pi\\left[\\left(x_i-x_j\\right)^2 + \\left(r_i-r_j\\right)^2\\right]} $$"
   ]
  },
  {
   "cell_type": "markdown",
   "id": "b29bf265",
   "metadata": {},
   "source": [
    "which again matches DFDC other than a swapped numerator and negative and the missing 1/2 we see everywhere."
   ]
  },
  {
   "cell_type": "markdown",
   "id": "58bf889d",
   "metadata": {},
   "source": [
    "## unit radial induced velocity from source ring"
   ]
  },
  {
   "cell_type": "markdown",
   "id": "8823b541",
   "metadata": {},
   "source": [
    "Once again, let's start from the full, mostly expanded expression for the velocity so we can more clearly see what's goiing on."
   ]
  },
  {
   "cell_type": "markdown",
   "id": "70b6f563",
   "metadata": {},
   "source": [
    "$$\n",
    "\\begin{equation}\n",
    "v_{r_{ij}}^\\sigma =\\int_{(x_{i_1},r_{i_1})}^{(x_{i_2},r_{i_2})} \n",
    "%\n",
    "\\left[ \n",
    "%\n",
    "\\frac{\\int_0^{\\pi/2}\\frac{1}{\\left[1-\\left(\\frac{4\\frac{r_i}{r_j}}{\\left(\\frac{x_i-x_j}{r_j}\\right)^2 + \\left(\\frac{r_i}{r_j}+1\\right)^2}\\right)\\sin^2\\theta\\right]^{1/2}}d\\theta}\n",
    "{2\\pi r_j \\left(\\frac{r_i}{r_j}\\right) \\left[\\left(\\frac{x_i-x_j}{r_j}\\right)^2 + \\left(\\frac{r_i}{r_j}+1\\right)^2 \\right]^{1/2}}  - \n",
    "%\n",
    "\\frac{\\int_0^{\\pi/2}\\left[1-\\left(\\frac{4\\frac{r_i}{r_j}}{\\left(\\frac{x_i-x_j}{r_j}\\right)^2 + \\left(\\frac{r_i}{r_j}+1\\right)^2}\\right)\\sin^2\\theta\\right]^{1/2}d\\theta}{2\\pi r_j  \\left(\\frac{r_i}{r_j}\\right) \\left[\\left(\\frac{x_i-x_j}{r_j}\\right)^2 + \\left(\\frac{r_i}{r_j}+1\\right)^2 \\right]^{1/2}}  \n",
    "%\n",
    "\\left(1-\\frac{2 \\left[\\left(\\frac{r_i}{r_j}\\right)^2-\\left(\\frac{r_i}{r_j}\\right)\\right]}{\\left(\\frac{x_i-x_j}{r_j}\\right)^2 + \\left(\\frac{r_i-r_j}{r_j}\\right)^2}\\right) \\right] ds\n",
    "\\end{equation}\n",
    "$$"
   ]
  },
  {
   "cell_type": "markdown",
   "id": "e3d46518",
   "metadata": {},
   "source": [
    "proceeding as before, we let $x_i=x_j$ and $r_i=r_j$ to help identify the sigularities"
   ]
  },
  {
   "cell_type": "markdown",
   "id": "79345647",
   "metadata": {},
   "source": [
    "$$\n",
    "\\frac{\\int_0^{\\pi/2}\\frac{1}{\\left[1-\\sin^2\\theta\\right]^{1/2}}d\\theta}\n",
    "{4\\pi r_j }  - \n",
    "%\n",
    "\\frac{1}{4\\pi r_j }  \n",
    "%\n",
    "\\left(1-\\frac{0}{ 0}\\right)\n",
    "$$"
   ]
  },
  {
   "cell_type": "markdown",
   "id": "35ab9038",
   "metadata": {},
   "source": [
    "For the second term, the singular part is"
   ]
  },
  {
   "cell_type": "markdown",
   "id": "27d3cd8a",
   "metadata": {},
   "source": [
    "$$\n",
    "\\frac{1}{2\\pi r_j \\left(\\frac{r_i}{r_j}\\right)}\n",
    "%\n",
    "\\left(\\frac{\\left(\\frac{r_i}{r_j}\\right)^2-\\left(\\frac{r_i}{r_j}\\right)}{\\left(\\frac{x_i-x_j}{r_j}\\right)^2 + \\left(\\frac{r_i-r_j}{r_j}\\right)^2}\\right) $$"
   ]
  },
  {
   "cell_type": "markdown",
   "id": "de4b4e9a",
   "metadata": {},
   "source": [
    "canceling out an $\\frac{r_i}{r_j}$ and an $r_j^2$"
   ]
  },
  {
   "cell_type": "markdown",
   "id": "c3fd3790",
   "metadata": {},
   "source": [
    "$$\n",
    "\\frac{1}{2\\pi}\n",
    "%\n",
    "\\left(\\frac{r_i-r_j}{\\left(x_i-x_j\\right)^2 + \\left(r_i-r_j\\right)^2}\\right) $$"
   ]
  },
  {
   "cell_type": "markdown",
   "id": "15238505",
   "metadata": {},
   "source": [
    "which is also what DFDC has for this term (though with the extra 1/2 on the outside in DFDC). (note when comparing to dfdc, they flipped the numerator and have a negative out front, but it's equivalent)\n",
    "\n",
    "Now going back to the first singular term, and using the same asypmtotic approximation as before for the elliptic integral of the first kind:"
   ]
  },
  {
   "cell_type": "markdown",
   "id": "2854e529",
   "metadata": {},
   "source": [
    "$$\n",
    "\\frac{1}{4\\pi r_j \\left(\\frac{r_i}{r_j}\\right)} \\ln \\frac{4}{\\sqrt{1-\\frac{4\\frac{r_i}{r_j}}{\\left(\\frac{x_i-x_j}{r_j}\\right)^2 + \\left(\\frac{r_i}{r_j}+1\\right)^2}}}\n",
    "$$"
   ]
  },
  {
   "cell_type": "markdown",
   "id": "d42a1af1",
   "metadata": {},
   "source": [
    "Following the same procedure as before we end up with"
   ]
  },
  {
   "cell_type": "markdown",
   "id": "41a296a9",
   "metadata": {},
   "source": [
    "$$\n",
    "\\frac{1}{4\\pi r_j\\left(\\frac{r_i}{r_j}\\right)} \\left[ - 0.5 \\ln\\left(\\frac{\\left(x_i-x_j\\right)^2 + \\left(r_i-r_j\\right)^2}{64r_j^2}\\right)\\right]\n",
    "$$"
   ]
  },
  {
   "cell_type": "markdown",
   "id": "32fd97e3",
   "metadata": {},
   "source": [
    "and the outside denominator fraction is non-singular with $r_i/r_j = 1$"
   ]
  },
  {
   "cell_type": "markdown",
   "id": "8561a12c",
   "metadata": {},
   "source": [
    "$$\n",
    "\\frac{1}{4\\pi r_j} \\left[ - 0.5 \\ln\\left(\\frac{\\left(x_i-x_j\\right)^2 + \\left(r_i-r_j\\right)^2}{64r_j^2}\\right)\\right]\n",
    "$$"
   ]
  },
  {
   "cell_type": "markdown",
   "id": "7e2b55cc",
   "metadata": {},
   "source": [
    "so all together we have:"
   ]
  },
  {
   "cell_type": "markdown",
   "id": "2b8f397f",
   "metadata": {},
   "source": [
    "$$\n",
    "\\frac{1}{2\\pi}\n",
    "%\n",
    "\\left(\\frac{r_i-r_j}{\\left(x_i-x_j\\right)^2 + \\left(r_i-r_j\\right)^2}\\right) \n",
    "%\n",
    "-\\frac{1}{4\\pi r_j} \\left[ 0.5 \\ln\\left(\\frac{\\left(x_i-x_j\\right)^2 + \\left(r_i-r_j\\right)^2}{64r_j^2}\\right)\\right]\n",
    "$$"
   ]
  },
  {
   "cell_type": "markdown",
   "id": "0ff41170",
   "metadata": {},
   "source": [
    "DFDC doesn't have the 1/64 in this case, why?"
   ]
  },
  {
   "cell_type": "markdown",
   "id": "96d36bd5",
   "metadata": {},
   "source": [
    "# analytic integrals to add back in"
   ]
  },
  {
   "cell_type": "markdown",
   "id": "a29dbab4",
   "metadata": {},
   "source": [
    "Now that we have all the singular parts that are subtracted, we need to take the integrals analytically.  \n",
    "We will integrate along the panel lengths, noting that the panel length, $\\Delta s = \\sqrt{\\left(x_i-x_j\\right)^2 + \\left(r_i-r_j\\right)^2}$\n",
    "\n",
    "Therefore, all of the non-logrithmic terms are analogous to the integral $\\int_s \\frac{r_i-r_j}{\\Delta s^2} ds = -\\frac{r_i-r_j}{\\Delta s} = 0$ when $r_i=r_j$ (the singular condition).\n",
    "\n",
    "This just leaves the logrithmic terms for which we can bring the constants out of the integral"
   ]
  },
  {
   "cell_type": "markdown",
   "id": "7875619e",
   "metadata": {},
   "source": [
    "$$\n",
    "\\begin{align}\n",
    "&\\frac{-1}{4\\pi r_j} \\int_s\\left[ \\ln\\left(\\frac{\\Delta s^2}{64r_j^2}\\right)\\right] ds\\\\\n",
    "=&\n",
    "\\frac{-1}{4\\pi r_j} \\left( -2 \\Delta s + \\Delta s \\ln\\frac{\\Delta s^2}{64 r_j^2}\\right)\\\\\n",
    "=&\n",
    "\\frac{\\Delta s}{2\\pi r_j} \\left( 1 + \\ln\\frac{8 r_j}{\\Delta s}\\right)\n",
    "\\end{align}\n",
    "$$"
   ]
  },
  {
   "cell_type": "markdown",
   "id": "2b0e73e0",
   "metadata": {},
   "source": [
    "this is close to what DFDC has, except they have a 16 and 2 rather than an 8 in the logrithm numerators.  they also multiply by the panel length later rather than in this expression where it is originally defined, but it's unclear if that is part of this result or if that is part of their integration scheme."
   ]
  },
  {
   "cell_type": "markdown",
   "id": "1c960764",
   "metadata": {},
   "source": [
    "# for later: set up for quadgk"
   ]
  },
  {
   "cell_type": "markdown",
   "id": "fd3662b5",
   "metadata": {},
   "source": [
    "maybe something like this according to quadgk docs?  (need to understand what they mean by adding analytic expression back into the integrand)\n"
   ]
  },
  {
   "cell_type": "markdown",
   "id": "79d203a4",
   "metadata": {},
   "source": [
    "$$ f = v_\\text{total} - v_\\text{singular} + v_\\text{analytic} $$"
   ]
  },
  {
   "cell_type": "markdown",
   "id": "67aec534",
   "metadata": {},
   "source": [
    "probably going to need to change bounds of integration to -1 to 1 with midpoint at 0  (DFDC has midpoint at 0.5, which is probably why they have an extra 1/2 in their singular parts)"
   ]
  },
  {
   "cell_type": "code",
   "execution_count": null,
   "id": "bfd53416",
   "metadata": {},
   "outputs": [],
   "source": []
  }
 ],
 "metadata": {
  "kernelspec": {
   "display_name": "Julia 1.8.2",
   "language": "julia",
   "name": "julia-1.8"
  },
  "language_info": {
   "file_extension": ".jl",
   "mimetype": "application/julia",
   "name": "julia",
   "version": "1.8.2"
  }
 },
 "nbformat": 4,
 "nbformat_minor": 5
}
